{
 "cells": [
  {
   "cell_type": "code",
   "execution_count": null,
   "metadata": {},
   "outputs": [],
   "source": [
    "# Sampling techniques like greedy decoding or beam search can be used to improve the quality of generated text.\n",
    "\n",
    "# https://www.linkedin.com/pulse/building-your-own-large-language-model-llm-from-guide-ramachandran/"
   ]
  },
  {
   "cell_type": "code",
   "execution_count": null,
   "metadata": {},
   "outputs": [],
   "source": [
    "# Meta’s Llama 2 models required about 180,000 GPU hours to train its 7b parameter model and 1,700,000 GPU hours to train the 70b model [2]. \n",
    "# Taking orders of magnitude here means that a ~10b parameter model can take 100,000 GPU hours to train, and a ~100b parameter takes 1,000,000 GPU hours.\n",
    "\n",
    "# Translating this into commercial cloud computing costs, an Nvidia A100 GPU (i.e. what was used to train Llama 2 models) costs around $1–2 per GPU per hour. \n",
    "# That means a ~10b parameter model costs about $150,000 to train, and a ~100b parameter model costs ~$1,500,000.\n",
    "\n",
    "# Alternatively, you can buy the GPUs if you don’t want to rent them. The cost of training will then include…\n",
    "\n"
   ]
  },
  {
   "cell_type": "code",
   "execution_count": null,
   "metadata": {},
   "outputs": [],
   "source": []
  },
  {
   "cell_type": "code",
   "execution_count": null,
   "metadata": {},
   "outputs": [],
   "source": [
    "# https://github.com/jncraton/languagemodels"
   ]
  },
  {
   "cell_type": "code",
   "execution_count": null,
   "metadata": {},
   "outputs": [],
   "source": [
    "pip install languagemodels"
   ]
  },
  {
   "cell_type": "code",
   "execution_count": null,
   "metadata": {},
   "outputs": [],
   "source": [
    "import languagemodels as lm\n",
    "\n",
    "# comerical license use only\n",
    "\n",
    "#lm.config['instruct_model']\n",
    "#lm.require_model_license(\"apache|bsd|mit\")\n",
    "#lm.config['instruct_model']"
   ]
  },
  {
   "cell_type": "code",
   "execution_count": null,
   "metadata": {},
   "outputs": [],
   "source": [
    "lm.do(\"What color is the sky?\")"
   ]
  },
  {
   "cell_type": "code",
   "execution_count": null,
   "metadata": {},
   "outputs": [],
   "source": [
    "# Load some programming language documents\n",
    "for topic in ['Solana crypto']:\n",
    "    doc = lm.get_wiki(topic)\n",
    "    lm.store_doc(doc)"
   ]
  },
  {
   "cell_type": "code",
   "execution_count": null,
   "metadata": {},
   "outputs": [],
   "source": [
    "lm.get_doc_context('Solana crypto')"
   ]
  },
  {
   "cell_type": "code",
   "execution_count": null,
   "metadata": {},
   "outputs": [],
   "source": [
    "lm.do(\"what is the price of crypto solana\")"
   ]
  }
 ],
 "metadata": {
  "kernelspec": {
   "display_name": "Python 3.10.9 ('base')",
   "language": "python",
   "name": "python3"
  },
  "language_info": {
   "codemirror_mode": {
    "name": "ipython",
    "version": 3
   },
   "file_extension": ".py",
   "mimetype": "text/x-python",
   "name": "python",
   "nbconvert_exporter": "python",
   "pygments_lexer": "ipython3",
   "version": "3.10.9"
  },
  "orig_nbformat": 4,
  "vscode": {
   "interpreter": {
    "hash": "7ebaea69196840cbe5dfb1c5060119be2859231f3ed9f57c98e9d61ef2eb9667"
   }
  }
 },
 "nbformat": 4,
 "nbformat_minor": 2
}
