{
  "nbformat": 4,
  "nbformat_minor": 0,
  "metadata": {
    "colab": {
      "name": "tabular_algorithms.ipynb",
      "provenance": [],
      "collapsed_sections": []
    },
    "kernelspec": {
      "name": "python3",
      "display_name": "Python 3"
    },
    "language_info": {
      "name": "python"
    }
  },
  "cells": [
    {
      "cell_type": "markdown",
      "metadata": {
        "id": "aOLITJ5oqZiP"
      },
      "source": [
        "Tabular Algorithms"
      ]
    },
    {
      "cell_type": "code",
      "metadata": {
        "id": "ts1t5VspMR8v"
      },
      "source": [
        "import math\n",
        "import random\n",
        "import numpy as np\n",
        "import matplotlib.pyplot as plt\n",
        "from numpy.random import RandomState"
      ],
      "execution_count": null,
      "outputs": []
    },
    {
      "cell_type": "markdown",
      "metadata": {
        "id": "FXdoLq9TlRpE"
      },
      "source": [
        "## Functions"
      ]
    },
    {
      "cell_type": "code",
      "metadata": {
        "id": "_EOHe4H71EkV"
      },
      "source": [
        "def calculate_action_probability(state):\n",
        "  exponentiated_potential = np.exp(-theta[state[0]][state[1]])\n",
        "  action_probability = 1/(exponentiated_potential+1)\n",
        "  return action_probability"
      ],
      "execution_count": null,
      "outputs": []
    },
    {
      "cell_type": "code",
      "metadata": {
        "id": "vSW4Y_69nlf8"
      },
      "source": [
        "def transition(state, action_probability):\n",
        "  rand = np.random.random()\n",
        "  if rand < action_probability:\n",
        "    action = 1\n",
        "  else:\n",
        "    action = 0\n",
        "  return action"
      ],
      "execution_count": null,
      "outputs": []
    },
    {
      "cell_type": "code",
      "metadata": {
        "id": "7noM1x36ST0c"
      },
      "source": [
        "def update_state(state, action):\n",
        "  state[0] += 2*action - 1\n",
        "  state[1] += 1\n",
        "  return state"
      ],
      "execution_count": null,
      "outputs": []
    },
    {
      "cell_type": "code",
      "metadata": {
        "id": "Z8UCVaLVD6Va"
      },
      "source": [
        "def generate_reward(state):\n",
        "  if state[0] < 0:\n",
        "    reward = -1 * abs(state[0])\n",
        "  else:\n",
        "    reward = 0\n",
        "  if state[1] == 20:\n",
        "    reward -=  2 * abs(state[0])\n",
        "  return reward"
      ],
      "execution_count": null,
      "outputs": []
    },
    {
      "cell_type": "code",
      "metadata": {
        "id": "WpBwwH8q4ubl"
      },
      "source": [
        "def calculate_eligibility(state, action, action_probability):\n",
        "  if action == 1:\n",
        "    eligibility = 1 - action_probability\n",
        "  else:\n",
        "    eligibility = -action_probability\n",
        "  return eligibility"
      ],
      "execution_count": null,
      "outputs": []
    },
    {
      "cell_type": "code",
      "metadata": {
        "id": "cKCDc0txYr8M"
      },
      "source": [
        "def update_theta1(trajectory, actions, rewards, eligibilities, theta): #monte-carlo and value-baseline\n",
        "  for i in reversed(range(len(trajectory)-1)):\n",
        "    state = trajectory[i]\n",
        "    action = actions[i]\n",
        "    eligibility = eligibilities[i]\n",
        "    sum_of_rewards = sum(rewards[i:T]) \n",
        "    theta[state[0]][state[1]] += learning_rate * sum_of_rewards * eligibility\n",
        "  return theta"
      ],
      "execution_count": null,
      "outputs": []
    },
    {
      "cell_type": "code",
      "metadata": {
        "id": "PcqL0ZmbYti9"
      },
      "source": [
        "def update_theta2(state, next_state, reward, learning_rate, eligibility): #actor-critic\n",
        "  past_value = find_value(state)\n",
        "  current_value = find_value(next_state)\n",
        "  td_error = current_value + reward - past_value\n",
        "  theta[state[0]][state[1]] += learning_rate * td_error * eligibility\n",
        "  return theta"
      ],
      "execution_count": null,
      "outputs": []
    },
    {
      "cell_type": "code",
      "metadata": {
        "id": "dxmyzzs0vymQ"
      },
      "source": [
        "def find_value(state):\n",
        "  return value_table[state[0]][state[1]]"
      ],
      "execution_count": null,
      "outputs": []
    },
    {
      "cell_type": "code",
      "metadata": {
        "id": "wBq6f-mZzK0F"
      },
      "source": [
        "def update_value1(trajectory, rewards, learning_rate_beta, value_table): #value-baseline\n",
        "  for i in reversed(range(len(trajectory)-1)):\n",
        "    state = trajectory[i]\n",
        "    current_value = find_value(state)\n",
        "    sum_of_rewards = sum(rewards[i:T])\n",
        "    td_error = sum_of_rewards - current_value\n",
        "    value_table[state[0]][state[1]] += learning_rate_beta * td_error\n",
        "  return value_table"
      ],
      "execution_count": null,
      "outputs": []
    },
    {
      "cell_type": "code",
      "metadata": {
        "id": "qAVOIB9hXXjE"
      },
      "source": [
        "def update_value2(state, next_state, reward, learning_rate_beta): #actor-critic\n",
        "  past_value = find_value(state)\n",
        "  current_value = find_value(next_state)\n",
        "  td_error = current_value + reward - past_value\n",
        "  value_table[state[0]][state[1]] += learning_rate_beta * td_error\n",
        "  return value_table"
      ],
      "execution_count": null,
      "outputs": []
    },
    {
      "cell_type": "code",
      "metadata": {
        "id": "j7fbG0EF7pxS"
      },
      "source": [
        "def generate_samples(N):\n",
        "  trajectories = []\n",
        "  average_return = 0\n",
        "  for i in range(0, N):\n",
        "    state = [0,0]\n",
        "    trajectory = [state.copy()]\n",
        "    trajectory_reward = 0\n",
        "    for i in range (0,T):\n",
        "      action_probability = calculate_action_probability(state.copy())\n",
        "      action = transition(state.copy(), action_probability)\n",
        "      next_state = update_state(state.copy(), action)\n",
        "      reward = generate_reward(next_state.copy())\n",
        "      trajectory_reward += reward\n",
        "      state = next_state\n",
        "      trajectory.append(state.copy())\n",
        "    trajectories.append(trajectory.copy())\n",
        "    average_return += (trajectory_reward - average_return)/(i+1)\n",
        "  return trajectories, average_return"
      ],
      "execution_count": null,
      "outputs": []
    },
    {
      "cell_type": "markdown",
      "metadata": {
        "id": "9zYl6D3QR4HQ"
      },
      "source": [
        "##Algorithms"
      ]
    },
    {
      "cell_type": "markdown",
      "metadata": {
        "id": "DT6xbjRUR-2f"
      },
      "source": [
        "###Monte-Carlo"
      ]
    },
    {
      "cell_type": "code",
      "metadata": {
        "id": "hLlRYYIESD91"
      },
      "source": [
        "def monte_carlo(N, avg):\n",
        "  trajectories = []\n",
        "  trajectory_rewards = [] #stores trajectory rewards\n",
        "  running_average_return = []\n",
        "  for i in range(0, N):\n",
        "    state = [0,0]\n",
        "    trajectory = [state.copy()]\n",
        "    actions = []\n",
        "    rewards = []\n",
        "    eligibilities = []\n",
        "    action_probabilities = []\n",
        "    trajectory_reward = 0\n",
        "    for i in range (0,T):\n",
        "\n",
        "      action_probability = calculate_action_probability(state.copy())\n",
        "      action_probabilities.append(action_probability) #store action probabilities\n",
        "\n",
        "      action = transition(state.copy(), action_probability)\n",
        "      actions.append(action) #store actions\n",
        "\n",
        "      eligibility = calculate_eligibility(state.copy(), action, action_probability)\n",
        "      eligibilities.append(eligibility) #store eligibilities\n",
        "      \n",
        "      next_state = update_state(state.copy(), action)\n",
        "  \n",
        "      reward = generate_reward(next_state.copy())\n",
        "      rewards.append(reward) #store rewards\n",
        "\n",
        "      trajectory_reward += reward\n",
        "\n",
        "      state = next_state #set next state as state\n",
        "      trajectory.append(state.copy()) #add next state to trajectory\n",
        "\n",
        "    trajectories.append(trajectory.copy()) #append trajectory to global list\n",
        "    trajectory_rewards.append(trajectory_reward) # append reward for trajectory\n",
        "\n",
        "    #average_return\n",
        "    avg += return_learning_rate * (trajectory_reward - avg)\n",
        "    running_average_return.append(avg)\n",
        "    \n",
        "    update_theta1(trajectory, actions, rewards, eligibilities, theta) #update theta\n",
        "\n",
        "  return trajectory_rewards, running_average_return"
      ],
      "execution_count": null,
      "outputs": []
    },
    {
      "cell_type": "markdown",
      "metadata": {
        "id": "GADtrw2RTUK6"
      },
      "source": [
        "###Value-Baseline"
      ]
    },
    {
      "cell_type": "code",
      "metadata": {
        "id": "CGPp82gY_rNv"
      },
      "source": [
        "def value_baseline(N, avg):\n",
        "  trajectories = []\n",
        "  trajectory_rewards = [] #stores trajectory rewards\n",
        "  running_average_return = [] #store running average return\n",
        "  for i in range(0, N):\n",
        "    state = [0,0]\n",
        "    trajectory = [state.copy()]\n",
        "    actions = []\n",
        "    rewards = []\n",
        "    eligibilities = []\n",
        "    action_probabilities = []\n",
        "    trajectory_reward = 0\n",
        "    for i in range (0,T):\n",
        "\n",
        "      action_probability = calculate_action_probability(state.copy())\n",
        "      action_probabilities.append(action_probability) #store action probabilities\n",
        "\n",
        "      action = transition(state.copy(), action_probability)\n",
        "      actions.append(action) #store actions\n",
        "\n",
        "      eligibility = calculate_eligibility(state.copy(), action, action_probability)\n",
        "      eligibilities.append(eligibility) #store eligibilities\n",
        "      \n",
        "      next_state = update_state(state.copy(), action)\n",
        "  \n",
        "      reward = generate_reward(next_state.copy())\n",
        "      rewards.append(reward) #store rewards\n",
        "\n",
        "      trajectory_reward += reward\n",
        "\n",
        "      state = next_state #set next state as state\n",
        "      trajectory.append(state.copy()) #add next state to trajectory\n",
        "\n",
        "    trajectories.append(trajectory.copy()) #append trajectory to global list\n",
        "    trajectory_rewards.append(trajectory_reward) # append reward for trajectory\n",
        "\n",
        "    #update the value for past state\n",
        "    update_value1(trajectory, rewards, learning_rate_beta, value_table)\n",
        "\n",
        "    #update theta\n",
        "    update_theta1(trajectory, actions, rewards, eligibilities, theta)\n",
        "\n",
        "    #average_return = (trajectory_reward/T)\n",
        "    avg += return_learning_rate * (trajectory_reward - avg)\n",
        "    running_average_return.append(avg)\n",
        "\n",
        "  return trajectory_rewards, running_average_return"
      ],
      "execution_count": null,
      "outputs": []
    },
    {
      "cell_type": "markdown",
      "metadata": {
        "id": "4yAxXkvtUOk2"
      },
      "source": [
        "###Actor-Critic"
      ]
    },
    {
      "cell_type": "code",
      "metadata": {
        "id": "M_4pBqkPUguz"
      },
      "source": [
        "def actor_critic(N, avg):\n",
        "  trajectories = []\n",
        "  trajectory_rewards = [] #stores trajectory rewards\n",
        "  running_average_return = [] #store running average return\n",
        "  for i in range(0, N):\n",
        "    state = [0,0]\n",
        "    trajectory = [state.copy()]\n",
        "    actions = []\n",
        "    rewards = []\n",
        "    eligibilities = []\n",
        "    action_probabilities = []\n",
        "    trajectory_reward = 0\n",
        "    for i in range (0,T):\n",
        "\n",
        "      action_probability = calculate_action_probability(state.copy())\n",
        "      action_probabilities.append(action_probability) #store action probabilities\n",
        "\n",
        "      action = transition(state.copy(), action_probability)\n",
        "      actions.append(action) #store actions\n",
        "\n",
        "      eligibility = calculate_eligibility(state.copy(), action, action_probability)\n",
        "      eligibilities.append(eligibility) #store eligibilities\n",
        "      \n",
        "      next_state = update_state(state.copy(), action)\n",
        "  \n",
        "      reward = generate_reward(next_state.copy())\n",
        "      rewards.append(reward) #store rewards\n",
        "\n",
        "      trajectory_reward += reward\n",
        "\n",
        "      #update the value for past state\n",
        "      update_value2(state, next_state, reward, learning_rate_beta)\n",
        "\n",
        "      #update theta\n",
        "      update_theta2(state, next_state, reward, learning_rate, eligibility)\n",
        "\n",
        "      state = next_state #set next state as state\n",
        "      trajectory.append(state.copy()) #add next state to trajectory\n",
        "\n",
        "    trajectories.append(trajectory.copy()) #append trajectory to global list\n",
        "    trajectory_rewards.append(trajectory_reward) # append reward for trajectory\n",
        "\n",
        "    #average_return\n",
        "    avg += return_learning_rate * (trajectory_reward - avg)\n",
        "    running_average_return.append(avg)\n",
        "\n",
        "  return trajectory_rewards, running_average_return"
      ],
      "execution_count": null,
      "outputs": []
    },
    {
      "cell_type": "markdown",
      "metadata": {
        "id": "umK0RVW-hoLd"
      },
      "source": [
        "##Untrained"
      ]
    },
    {
      "cell_type": "code",
      "metadata": {
        "id": "fX6esMg27lLZ"
      },
      "source": [
        "T = 20\n",
        "dimensions = (2*T+1,T+1)\n",
        "theta = np.zeros(dimensions)"
      ],
      "execution_count": null,
      "outputs": []
    },
    {
      "cell_type": "code",
      "metadata": {
        "id": "MbQozRC_iiMO"
      },
      "source": [
        "untrained, avg = generate_samples(30)"
      ],
      "execution_count": null,
      "outputs": []
    },
    {
      "cell_type": "code",
      "metadata": {
        "colab": {
          "base_uri": "https://localhost:8080/",
          "height": 305
        },
        "id": "1cKaKkMFm6H2",
        "outputId": "f6dff97b-2051-4715-b459-3a8babdcad25"
      },
      "source": [
        "min_y = np.min(np.array(untrained)[:,:,0]) - 1\n",
        "max_y = np.max(np.array(untrained)[:,:,0]) + 1\n",
        "\n",
        "plt.plot(np.array(untrained)[:,:,0].T, c = 'k', alpha = 0.2)\n",
        "plt.scatter([20], [0], c = 'k', marker = 'o', s = 100)\n",
        "plt.plot([-1, 21], [0, 0], lw = 2, c = 'r', ls = '--', alpha = 0.3)\n",
        "plt.fill_between([-1, 21], [0, 0], [min_y, min_y], color = 'r', alpha = 0.1)\n",
        "plt.xlim(-1, 21)\n",
        "plt.ylim(min_y, max_y)\n",
        "plt.xlabel(\"Time\", fontsize=16)\n",
        "plt.ylabel(\"Position\", fontsize=16)\n",
        "plt.xticks(fontsize=12)\n",
        "plt.yticks(fontsize=14)\n",
        "plt.show()\n",
        "\n",
        "print(\"Average return:\", avg)"
      ],
      "execution_count": null,
      "outputs": [
        {
          "output_type": "display_data",
          "data": {
            "image/png": "[encoded data removed]",
            "text/plain": [
              "<Figure size 432x288 with 1 Axes>"
            ]
          },
          "metadata": {
            "needs_background": "light"
          }
        },
        {
          "output_type": "stream",
          "text": [
            "Average return: -25.04324783787569\n"
          ],
          "name": "stdout"
        }
      ]
    },
    {
      "cell_type": "markdown",
      "metadata": {
        "id": "3MextTkyVLex"
      },
      "source": [
        "## Train algorithms"
      ]
    },
    {
      "cell_type": "markdown",
      "metadata": {
        "id": "ZtlZXoICj7nH"
      },
      "source": [
        "###Train monte-carlo"
      ]
    },
    {
      "cell_type": "code",
      "metadata": {
        "id": "PEQnnWgDHut5"
      },
      "source": [
        "T = 20\n",
        "N = 1000\n",
        "dimensions = (2*T+1,T+1)\n",
        "theta = np.zeros(dimensions)\n",
        "value_table = np.zeros(dimensions)\n",
        "learning_rate = 0.15\n",
        "learning_rate_beta = 0.6\n",
        "return_learning_rate = 0.1"
      ],
      "execution_count": null,
      "outputs": []
    },
    {
      "cell_type": "code",
      "metadata": {
        "id": "K2WJCwlFVLCA"
      },
      "source": [
        "mc_rewards, mc_running_return = monte_carlo(N, avg)"
      ],
      "execution_count": null,
      "outputs": []
    },
    {
      "cell_type": "markdown",
      "metadata": {
        "id": "SnVyDdCNkAtr"
      },
      "source": [
        "###Train value-baseline"
      ]
    },
    {
      "cell_type": "code",
      "metadata": {
        "id": "zL5iGKa1kAtu"
      },
      "source": [
        "T = 20\n",
        "N = 1000\n",
        "dimensions = (2*T+1,T+1)\n",
        "theta = np.zeros(dimensions)\n",
        "value_table = np.zeros(dimensions)\n",
        "learning_rate = 0.15\n",
        "learning_rate_beta = 0.6\n",
        "return_learning_rate = 0.1"
      ],
      "execution_count": null,
      "outputs": []
    },
    {
      "cell_type": "code",
      "metadata": {
        "id": "y80Y1QPLk9QP"
      },
      "source": [
        "vb_rewards, vb_running_return = value_baseline(N, avg)"
      ],
      "execution_count": null,
      "outputs": []
    },
    {
      "cell_type": "markdown",
      "metadata": {
        "id": "Jwa96uS2kJ-P"
      },
      "source": [
        "###Train actor-critic"
      ]
    },
    {
      "cell_type": "code",
      "metadata": {
        "id": "Fur97gBDkJ-Q"
      },
      "source": [
        "T = 20\n",
        "N = 1000\n",
        "dimensions = (2*T+1,T+1)\n",
        "theta = np.zeros(dimensions)\n",
        "value_table = np.zeros(dimensions)\n",
        "learning_rate = 0.15\n",
        "learning_rate_beta = 0.6\n",
        "return_learning_rate = 0.1"
      ],
      "execution_count": null,
      "outputs": []
    },
    {
      "cell_type": "code",
      "metadata": {
        "id": "ByOwDayQkJ-Q"
      },
      "source": [
        "ac_rewards, ac_running_return = actor_critic(N, avg)"
      ],
      "execution_count": null,
      "outputs": []
    },
    {
      "cell_type": "markdown",
      "metadata": {
        "id": "0IKP3Up7WJrt"
      },
      "source": [
        "Plot returns"
      ]
    },
    {
      "cell_type": "code",
      "metadata": {
        "id": "jg8VlIbyWBBQ",
        "colab": {
          "base_uri": "https://localhost:8080/",
          "height": 307
        },
        "outputId": "fe9b0d05-9860-48c4-c275-5529d5372ae1"
      },
      "source": [
        "plt.plot(mc_rewards, c = 'b')\n",
        "plt.plot(vb_rewards, c = 'm')\n",
        "plt.plot(ac_rewards, c = 'g')\n",
        "plt.xticks(fontsize=16)\n",
        "plt.yticks(fontsize=16)\n",
        "plt.xlabel(\"Episode\", fontsize=16)\n",
        "plt.ylabel(\"Episodic returns\", fontsize=16)"
      ],
      "execution_count": null,
      "outputs": [
        {
          "output_type": "execute_result",
          "data": {
            "text/plain": [
              "Text(0, 0.5, 'Episodic returns')"
            ]
          },
          "metadata": {},
          "execution_count": 28
        },
        {
          "output_type": "display_data",
          "data": {
            "image/png": "[encoded data removed]",
            "text/plain": [
              "<Figure size 432x288 with 1 Axes>"
            ]
          },
          "metadata": {
            "needs_background": "light"
          }
        }
      ]
    },
    {
      "cell_type": "markdown",
      "metadata": {
        "id": "HsyRkbKBc8zo"
      },
      "source": [
        "Plot running returns"
      ]
    },
    {
      "cell_type": "code",
      "metadata": {
        "colab": {
          "base_uri": "https://localhost:8080/",
          "height": 289
        },
        "id": "3Tx401loc8GW",
        "outputId": "07aa1e9e-22d4-4966-a716-983935a0b9c7"
      },
      "source": [
        "plt.plot(mc_running_return, c = 'b')\n",
        "plt.plot(vb_running_return, c = 'm')\n",
        "#plt.plot(ac_running_return, c = 'g')\n",
        "plt.xlabel(\"Episode\", fontsize=16)\n",
        "plt.ylabel(\"Running return\", fontsize=16)\n",
        "plt.xticks(fontsize=16)\n",
        "plt.yticks(fontsize=16)\n",
        "plt.show()"
      ],
      "execution_count": null,
      "outputs": [
        {
          "output_type": "display_data",
          "data": {
            "image/png": "[encoded data removed]",
            "text/plain": [
              "<Figure size 432x288 with 1 Axes>"
            ]
          },
          "metadata": {
            "needs_background": "light"
          }
        }
      ]
    },
    {
      "cell_type": "markdown",
      "metadata": {
        "id": "zYXBVPHinhox"
      },
      "source": [
        "Plot all excursions"
      ]
    }
  ]
}