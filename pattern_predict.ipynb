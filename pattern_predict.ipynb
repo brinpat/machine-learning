{
 "cells": [
  {
   "cell_type": "code",
   "execution_count": null,
   "metadata": {},
   "outputs": [],
   "source": [
    "#pip install scikit-learn"
   ]
  },
  {
   "cell_type": "code",
   "execution_count": null,
   "metadata": {},
   "outputs": [],
   "source": [
    "from sklearn.linear_model import LinearRegression\n",
    "import numpy as np"
   ]
  },
  {
   "cell_type": "code",
   "execution_count": null,
   "metadata": {},
   "outputs": [],
   "source": [
    "\n",
    "\n",
    "#define your inputs\n",
    "features = [ [0,1,1],\n",
    "             [2,3,5],\n",
    "             [8,13,21],\n",
    "             [34,55,89] ]\n",
    "\n",
    "labels = [2,8,34,144]\n",
    "\n",
    "# create your linear regression extrapolator\n",
    "clf = LinearRegression()\n",
    "clf.fit(features, labels)\n",
    "\n",
    "# create a simple function to find the next number in the fibonacci sequence\n",
    "def find_next(feat_list):\n",
    "    # feat_list is your input list of numbers\n",
    "    result = clf.predict(feat_list)\n",
    "    result = result.tolist()\n",
    "    result = [int(x) for x in result]\n",
    "    return result\n",
    "\n",
    "# create one more function to iterate and add as many numbers to the sequence as you want\n",
    "def find_next_numbers(feat_list, how_many):\n",
    "    # feat_list is your input list of numbers\n",
    "    # how_many is the number of numbers you want to append\n",
    "    result = []\n",
    "    for i in range(how_many):\n",
    "        nextnum = find_next(feat_list)\n",
    "        result = result + nextnum\n",
    "        # remove the smallest number and add the number you just found\n",
    "        # before you iterate again using this new list as input\n",
    "        feat_list[0] = feat_list[0][1:] + nextnum\n",
    "    return result\n",
    "\n",
    "\n",
    "# test it\n",
    "test = [[144, 233, 377]]    \n",
    "print(find_next_numbers(test, 10))"
   ]
  },
  {
   "cell_type": "code",
   "execution_count": null,
   "metadata": {},
   "outputs": [],
   "source": []
  },
  {
   "cell_type": "code",
   "execution_count": null,
   "metadata": {},
   "outputs": [],
   "source": []
  },
  {
   "cell_type": "code",
   "execution_count": null,
   "metadata": {},
   "outputs": [],
   "source": []
  },
  {
   "cell_type": "code",
   "execution_count": null,
   "metadata": {},
   "outputs": [],
   "source": [
    "#define your inputs\n",
    "features = [ [0,1,1],\n",
    "             [2,3,5],\n",
    "             [8,13,21],\n",
    "             [34,55,89] ]\n",
    "\n",
    "labels = [2,8,34,144]\n",
    "\n",
    "# create your linear regression extrapolator\n",
    "clf = LinearRegression()\n",
    "clf.fit(features, labels)\n",
    "\n",
    "# create a simple function to find the next number in the fibonacci sequence\n",
    "def find_next(feat_list):\n",
    "    # feat_list is your input list of numbers\n",
    "    result = clf.predict(feat_list)\n",
    "    result = result.tolist()\n",
    "    result = [int(x) for x in result]\n",
    "    return result\n",
    "\n",
    "# create one more function to iterate and add as many numbers to the sequence as you want\n",
    "def find_next_numbers(feat_list, how_many):\n",
    "    # feat_list is your input list of numbers\n",
    "    # how_many is the number of numbers you want to append\n",
    "    result = []\n",
    "    for i in range(how_many):\n",
    "        nextnum = find_next(feat_list)\n",
    "        result = result + nextnum\n",
    "        # remove the smallest number and add the number you just found\n",
    "        # before you iterate again using this new list as input\n",
    "        feat_list[0] = feat_list[0][1:] + nextnum\n",
    "    return result\n",
    "\n",
    "\n",
    "# test it\n",
    "test = [[144, 233, 377]]    \n",
    "print(find_next_numbers(test, 100))"
   ]
  },
  {
   "cell_type": "code",
   "execution_count": null,
   "metadata": {},
   "outputs": [],
   "source": []
  },
  {
   "cell_type": "code",
   "execution_count": null,
   "metadata": {},
   "outputs": [],
   "source": [
    "# define your inputs\n",
    "features = [ [0,1,1],\n",
    "             [2,3,5],\n",
    "             [8,13,21],\n",
    "             [34,55,89] ]\n",
    "\n",
    "labels = [2,8,34,144]\n",
    "\n",
    "# create your linear regression extrapolator\n",
    "clf = LinearRegression()\n",
    "clf.fit(features, labels)\n",
    "\n",
    "# create a simple function to find the next number in the fibonacci sequence\n",
    "def find_next(feat_list):\n",
    "    # feat_list is your input list of numbers\n",
    "    result = clf.predict(feat_list)\n",
    "    result = result.tolist()\n",
    "    result = [int(x) for x in result]\n",
    "    return result\n",
    "\n",
    "# create one more function to iterate and add as many numbers to the sequence as you want\n",
    "def find_next_numbers(feat_list, how_many):\n",
    "    # feat_list is your input list of numbers\n",
    "    # how_many is the number of numbers you want to append\n",
    "    result = []\n",
    "    for i in range(how_many):\n",
    "        nextnum = find_next(feat_list)\n",
    "        result = result + nextnum\n",
    "        # remove the smallest number and add the number you just found\n",
    "        # before you iterate again using this new list as input\n",
    "        feat_list[0] = feat_list[0][1:] + nextnum\n",
    "    return result\n",
    "\n",
    "\n",
    "# test it\n",
    "test = [[144, 233, 377]]    \n",
    "print(find_next_numbers(test, 100))"
   ]
  },
  {
   "cell_type": "code",
   "execution_count": null,
   "metadata": {},
   "outputs": [],
   "source": []
  },
  {
   "cell_type": "code",
   "execution_count": null,
   "metadata": {},
   "outputs": [],
   "source": []
  },
  {
   "cell_type": "code",
   "execution_count": null,
   "metadata": {},
   "outputs": [],
   "source": [
    "def is_prime(n):\n",
    "    \n",
    "  if n <= 1:\n",
    "    return False\n",
    "  for i in range(2, int(np.sqrt(n)) + 1):\n",
    "    if n % i == 0:\n",
    "      return False\n",
    "  return True"
   ]
  },
  {
   "cell_type": "code",
   "execution_count": null,
   "metadata": {},
   "outputs": [],
   "source": [
    "pip install gmpy2"
   ]
  },
  {
   "cell_type": "code",
   "execution_count": null,
   "metadata": {},
   "outputs": [],
   "source": [
    "from mpmath import mp, sqrt, isinf, isnan\n",
    "\n",
    "def is_prime_large(n):\n",
    "    if n <= 1:\n",
    "        return 'Too small'\n",
    "    \n",
    "    sqrt_n = sqrt(mp.mpf(n))\n",
    "    \n",
    "    if isinf(sqrt_n) or isnan(sqrt_n):\n",
    "        return 'Too large'\n",
    "\n",
    "    for i in range(2, int(sqrt_n) + 1):\n",
    "        if n % i == 0:\n",
    "            return f'{n} is divisible by {i}'\n",
    "\n",
    "    return f'{n} is prime'\n"
   ]
  },
  {
   "cell_type": "code",
   "execution_count": null,
   "metadata": {},
   "outputs": [],
   "source": [
    "is_prime_large(100090993)"
   ]
  },
  {
   "cell_type": "code",
   "execution_count": null,
   "metadata": {},
   "outputs": [],
   "source": [
    "number = 2E825899331 - 1\n",
    "result = is_prime_large(number)\n",
    "\n",
    "print(result)\n"
   ]
  },
  {
   "cell_type": "code",
   "execution_count": null,
   "metadata": {},
   "outputs": [],
   "source": [
    "import gmpy2\n",
    "\n",
    "def is_prime_large(n):\n",
    "    if n <= 1:\n",
    "        return 'Too small'\n",
    "\n",
    "    if gmpy2.is_prime(gmpy2.mpz(n)):\n",
    "        return f'{n} is prime'\n",
    "    else:\n",
    "        return f'{n} is not prime'\n",
    "\n",
    "number = 4\n",
    "result = is_prime_large(number)\n",
    "\n",
    "print(result)\n"
   ]
  },
  {
   "cell_type": "code",
   "execution_count": null,
   "metadata": {},
   "outputs": [],
   "source": [
    "#pip install mpmath"
   ]
  },
  {
   "cell_type": "code",
   "execution_count": null,
   "metadata": {},
   "outputs": [],
   "source": [
    "from mpmath import mp\n",
    "\n",
    "# Set precision to a sufficiently high value\n",
    "mp.dps = 50\n",
    "\n",
    "numerator = mp.mpf('2E82589933') - 1\n",
    "denominator = mp.mpf('1')\n",
    "\n",
    "result = mp.floor(numerator / denominator)\n",
    "print(result)"
   ]
  },
  {
   "cell_type": "code",
   "execution_count": null,
   "metadata": {},
   "outputs": [],
   "source": [
    "mp.mpf('2.7585E8578676') - 1   #2589933"
   ]
  },
  {
   "cell_type": "code",
   "execution_count": null,
   "metadata": {},
   "outputs": [],
   "source": [
    "for i in range(0,100):\n",
    "    \n",
    "    if is_prime(i) == True:\n",
    "        print(i)"
   ]
  }
 ],
 "metadata": {
  "kernelspec": {
   "display_name": "Python 3.7.1 ('Py37')",
   "language": "python",
   "name": "python3"
  },
  "language_info": {
   "codemirror_mode": {
    "name": "ipython",
    "version": 3
   },
   "file_extension": ".py",
   "mimetype": "text/x-python",
   "name": "python",
   "nbconvert_exporter": "python",
   "pygments_lexer": "ipython3",
   "version": "3.7.1"
  },
  "orig_nbformat": 4,
  "vscode": {
   "interpreter": {
    "hash": "8e11c42773e3e9f08827a14eabde460b861d339fca3967b22e9764f1134ba708"
   }
  }
 },
 "nbformat": 4,
 "nbformat_minor": 2
}
