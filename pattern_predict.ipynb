{
 "cells": [
  {
   "cell_type": "code",
   "execution_count": 1,
   "metadata": {},
   "outputs": [],
   "source": [
    "#pip install scikit-learn"
   ]
  },
  {
   "cell_type": "code",
   "execution_count": 2,
   "metadata": {},
   "outputs": [],
   "source": [
    "from sklearn.linear_model import LinearRegression\n",
    "import numpy as np"
   ]
  },
  {
   "cell_type": "code",
   "execution_count": 4,
   "metadata": {},
   "outputs": [
    {
     "name": "stdout",
     "output_type": "stream",
     "text": [
      "[610, 987, 1597, 2584, 4181, 6765, 10946, 17711, 28657, 46368]\n"
     ]
    }
   ],
   "source": [
    "\n",
    "\n",
    "#define your inputs\n",
    "features = [ [0,1,1],\n",
    "             [2,3,5],\n",
    "             [8,13,21],\n",
    "             [34,55,89] ]\n",
    "\n",
    "labels = [2,8,34,144]\n",
    "\n",
    "# create your linear regression extrapolator\n",
    "clf = LinearRegression()\n",
    "clf.fit(features, labels)\n",
    "\n",
    "# create a simple function to find the next number in the fibonacci sequence\n",
    "def find_next(feat_list):\n",
    "    # feat_list is your input list of numbers\n",
    "    result = clf.predict(feat_list)\n",
    "    result = result.tolist()\n",
    "    result = [int(x) for x in result]\n",
    "    return result\n",
    "\n",
    "# create one more function to iterate and add as many numbers to the sequence as you want\n",
    "def find_next_numbers(feat_list, how_many):\n",
    "    # feat_list is your input list of numbers\n",
    "    # how_many is the number of numbers you want to append\n",
    "    result = []\n",
    "    for i in range(how_many):\n",
    "        nextnum = find_next(feat_list)\n",
    "        result = result + nextnum\n",
    "        # remove the smallest number and add the number you just found\n",
    "        # before you iterate again using this new list as input\n",
    "        feat_list[0] = feat_list[0][1:] + nextnum\n",
    "    return result\n",
    "\n",
    "\n",
    "# test it\n",
    "test = [[144, 233, 377]]    \n",
    "print(find_next_numbers(test, 10))"
   ]
  },
  {
   "cell_type": "code",
   "execution_count": null,
   "metadata": {},
   "outputs": [],
   "source": []
  },
  {
   "cell_type": "code",
   "execution_count": null,
   "metadata": {},
   "outputs": [],
   "source": []
  },
  {
   "cell_type": "code",
   "execution_count": null,
   "metadata": {},
   "outputs": [],
   "source": []
  },
  {
   "cell_type": "code",
   "execution_count": 2,
   "metadata": {},
   "outputs": [
    {
     "name": "stdout",
     "output_type": "stream",
     "text": [
      "[610, 987, 1597, 2584, 4181, 6765, 10946, 17711, 28657, 46368, 75025, 121393, 196418, 317811, 514229, 832040, 1346269, 2178309, 3524578, 5702887, 9227465, 14930352, 24157817, 39088169, 63245986, 102334155, 165580141, 267914296, 433494437, 701408733, 1134903170, 1836311903, 2971215073, 4807526976, 7778742049, 12586269025, 20365011074, 32951280099, 53316291173, 86267571272, 139583862445, 225851433717, 365435296162, 591286729879, 956722026041, 1548008755920, 2504730781961, 4052739537881, 6557470319842, 10610209857723, 17167680177565, 27777890035288, 44945570212853, 72723460248141, 117669030460994, 190392490709135, 308061521170129, 498454011879264, 806515533049393, 1304969544928657, 2111485077978051, 3416454622906710, 5527939700884764, 8944394323791479, 14472334024676252, 23416728348467744, 37889062373144016, 61305790721611792, 99194853094755872, 160500643816367744, 259695496911123776, 420196140727491776, 679891637638615936, 1100087778366108288, 1779979416004725248, 2880067194370834944, 4660046610375562240, 7540113804746400768, 12200160415121969152, 19740274219868381184, 31940434634990370816, 51680708854858776576, 83621143489849196544, 135301852344708038656, 218922995834557366272, 354224848179265601536, 573147844013823295488, 927372692193089421312, 1500520536206913568768, 2427893228400004300800, 3928413764606919966720, 6356306993006927413248, 10284720757613854195712, 16641027750620792094720, 26925748508234660970496, 43566776258855478231040, 70492524767090172755968, 114059301025945718095872, 184551825793035999903744, 298611126818981885771776]\n"
     ]
    },
    {
     "name": "stderr",
     "output_type": "stream",
     "text": [
      "c:\\Users\\brinley.patterson\\AppData\\Local\\anaconda3\\envs\\Py37\\lib\\site-packages\\sklearn\\base.py:566: FutureWarning: Arrays of bytes/strings is being converted to decimal numbers if dtype='numeric'. This behavior is deprecated in 0.24 and will be removed in 1.1 (renaming of 0.26). Please convert your data to numeric values explicitly instead.\n",
      "  X = check_array(X, **check_params)\n",
      "c:\\Users\\brinley.patterson\\AppData\\Local\\anaconda3\\envs\\Py37\\lib\\site-packages\\sklearn\\base.py:566: FutureWarning: Arrays of bytes/strings is being converted to decimal numbers if dtype='numeric'. This behavior is deprecated in 0.24 and will be removed in 1.1 (renaming of 0.26). Please convert your data to numeric values explicitly instead.\n",
      "  X = check_array(X, **check_params)\n",
      "c:\\Users\\brinley.patterson\\AppData\\Local\\anaconda3\\envs\\Py37\\lib\\site-packages\\sklearn\\base.py:566: FutureWarning: Arrays of bytes/strings is being converted to decimal numbers if dtype='numeric'. This behavior is deprecated in 0.24 and will be removed in 1.1 (renaming of 0.26). Please convert your data to numeric values explicitly instead.\n",
      "  X = check_array(X, **check_params)\n",
      "c:\\Users\\brinley.patterson\\AppData\\Local\\anaconda3\\envs\\Py37\\lib\\site-packages\\sklearn\\base.py:566: FutureWarning: Arrays of bytes/strings is being converted to decimal numbers if dtype='numeric'. This behavior is deprecated in 0.24 and will be removed in 1.1 (renaming of 0.26). Please convert your data to numeric values explicitly instead.\n",
      "  X = check_array(X, **check_params)\n",
      "c:\\Users\\brinley.patterson\\AppData\\Local\\anaconda3\\envs\\Py37\\lib\\site-packages\\sklearn\\base.py:566: FutureWarning: Arrays of bytes/strings is being converted to decimal numbers if dtype='numeric'. This behavior is deprecated in 0.24 and will be removed in 1.1 (renaming of 0.26). Please convert your data to numeric values explicitly instead.\n",
      "  X = check_array(X, **check_params)\n",
      "c:\\Users\\brinley.patterson\\AppData\\Local\\anaconda3\\envs\\Py37\\lib\\site-packages\\sklearn\\base.py:566: FutureWarning: Arrays of bytes/strings is being converted to decimal numbers if dtype='numeric'. This behavior is deprecated in 0.24 and will be removed in 1.1 (renaming of 0.26). Please convert your data to numeric values explicitly instead.\n",
      "  X = check_array(X, **check_params)\n",
      "c:\\Users\\brinley.patterson\\AppData\\Local\\anaconda3\\envs\\Py37\\lib\\site-packages\\sklearn\\base.py:566: FutureWarning: Arrays of bytes/strings is being converted to decimal numbers if dtype='numeric'. This behavior is deprecated in 0.24 and will be removed in 1.1 (renaming of 0.26). Please convert your data to numeric values explicitly instead.\n",
      "  X = check_array(X, **check_params)\n",
      "c:\\Users\\brinley.patterson\\AppData\\Local\\anaconda3\\envs\\Py37\\lib\\site-packages\\sklearn\\base.py:566: FutureWarning: Arrays of bytes/strings is being converted to decimal numbers if dtype='numeric'. This behavior is deprecated in 0.24 and will be removed in 1.1 (renaming of 0.26). Please convert your data to numeric values explicitly instead.\n",
      "  X = check_array(X, **check_params)\n",
      "c:\\Users\\brinley.patterson\\AppData\\Local\\anaconda3\\envs\\Py37\\lib\\site-packages\\sklearn\\base.py:566: FutureWarning: Arrays of bytes/strings is being converted to decimal numbers if dtype='numeric'. This behavior is deprecated in 0.24 and will be removed in 1.1 (renaming of 0.26). Please convert your data to numeric values explicitly instead.\n",
      "  X = check_array(X, **check_params)\n",
      "c:\\Users\\brinley.patterson\\AppData\\Local\\anaconda3\\envs\\Py37\\lib\\site-packages\\sklearn\\base.py:566: FutureWarning: Arrays of bytes/strings is being converted to decimal numbers if dtype='numeric'. This behavior is deprecated in 0.24 and will be removed in 1.1 (renaming of 0.26). Please convert your data to numeric values explicitly instead.\n",
      "  X = check_array(X, **check_params)\n",
      "c:\\Users\\brinley.patterson\\AppData\\Local\\anaconda3\\envs\\Py37\\lib\\site-packages\\sklearn\\base.py:566: FutureWarning: Arrays of bytes/strings is being converted to decimal numbers if dtype='numeric'. This behavior is deprecated in 0.24 and will be removed in 1.1 (renaming of 0.26). Please convert your data to numeric values explicitly instead.\n",
      "  X = check_array(X, **check_params)\n",
      "c:\\Users\\brinley.patterson\\AppData\\Local\\anaconda3\\envs\\Py37\\lib\\site-packages\\sklearn\\base.py:566: FutureWarning: Arrays of bytes/strings is being converted to decimal numbers if dtype='numeric'. This behavior is deprecated in 0.24 and will be removed in 1.1 (renaming of 0.26). Please convert your data to numeric values explicitly instead.\n",
      "  X = check_array(X, **check_params)\n",
      "c:\\Users\\brinley.patterson\\AppData\\Local\\anaconda3\\envs\\Py37\\lib\\site-packages\\sklearn\\base.py:566: FutureWarning: Arrays of bytes/strings is being converted to decimal numbers if dtype='numeric'. This behavior is deprecated in 0.24 and will be removed in 1.1 (renaming of 0.26). Please convert your data to numeric values explicitly instead.\n",
      "  X = check_array(X, **check_params)\n",
      "c:\\Users\\brinley.patterson\\AppData\\Local\\anaconda3\\envs\\Py37\\lib\\site-packages\\sklearn\\base.py:566: FutureWarning: Arrays of bytes/strings is being converted to decimal numbers if dtype='numeric'. This behavior is deprecated in 0.24 and will be removed in 1.1 (renaming of 0.26). Please convert your data to numeric values explicitly instead.\n",
      "  X = check_array(X, **check_params)\n",
      "c:\\Users\\brinley.patterson\\AppData\\Local\\anaconda3\\envs\\Py37\\lib\\site-packages\\sklearn\\base.py:566: FutureWarning: Arrays of bytes/strings is being converted to decimal numbers if dtype='numeric'. This behavior is deprecated in 0.24 and will be removed in 1.1 (renaming of 0.26). Please convert your data to numeric values explicitly instead.\n",
      "  X = check_array(X, **check_params)\n",
      "c:\\Users\\brinley.patterson\\AppData\\Local\\anaconda3\\envs\\Py37\\lib\\site-packages\\sklearn\\base.py:566: FutureWarning: Arrays of bytes/strings is being converted to decimal numbers if dtype='numeric'. This behavior is deprecated in 0.24 and will be removed in 1.1 (renaming of 0.26). Please convert your data to numeric values explicitly instead.\n",
      "  X = check_array(X, **check_params)\n",
      "c:\\Users\\brinley.patterson\\AppData\\Local\\anaconda3\\envs\\Py37\\lib\\site-packages\\sklearn\\base.py:566: FutureWarning: Arrays of bytes/strings is being converted to decimal numbers if dtype='numeric'. This behavior is deprecated in 0.24 and will be removed in 1.1 (renaming of 0.26). Please convert your data to numeric values explicitly instead.\n",
      "  X = check_array(X, **check_params)\n",
      "c:\\Users\\brinley.patterson\\AppData\\Local\\anaconda3\\envs\\Py37\\lib\\site-packages\\sklearn\\base.py:566: FutureWarning: Arrays of bytes/strings is being converted to decimal numbers if dtype='numeric'. This behavior is deprecated in 0.24 and will be removed in 1.1 (renaming of 0.26). Please convert your data to numeric values explicitly instead.\n",
      "  X = check_array(X, **check_params)\n",
      "c:\\Users\\brinley.patterson\\AppData\\Local\\anaconda3\\envs\\Py37\\lib\\site-packages\\sklearn\\base.py:566: FutureWarning: Arrays of bytes/strings is being converted to decimal numbers if dtype='numeric'. This behavior is deprecated in 0.24 and will be removed in 1.1 (renaming of 0.26). Please convert your data to numeric values explicitly instead.\n",
      "  X = check_array(X, **check_params)\n",
      "c:\\Users\\brinley.patterson\\AppData\\Local\\anaconda3\\envs\\Py37\\lib\\site-packages\\sklearn\\base.py:566: FutureWarning: Arrays of bytes/strings is being converted to decimal numbers if dtype='numeric'. This behavior is deprecated in 0.24 and will be removed in 1.1 (renaming of 0.26). Please convert your data to numeric values explicitly instead.\n",
      "  X = check_array(X, **check_params)\n"
     ]
    }
   ],
   "source": [
    "#define your inputs\n",
    "features = [ [0,1,1],\n",
    "             [2,3,5],\n",
    "             [8,13,21],\n",
    "             [34,55,89] ]\n",
    "\n",
    "labels = [2,8,34,144]\n",
    "\n",
    "# create your linear regression extrapolator\n",
    "clf = LinearRegression()\n",
    "clf.fit(features, labels)\n",
    "\n",
    "# create a simple function to find the next number in the fibonacci sequence\n",
    "def find_next(feat_list):\n",
    "    # feat_list is your input list of numbers\n",
    "    result = clf.predict(feat_list)\n",
    "    result = result.tolist()\n",
    "    result = [int(x) for x in result]\n",
    "    return result\n",
    "\n",
    "# create one more function to iterate and add as many numbers to the sequence as you want\n",
    "def find_next_numbers(feat_list, how_many):\n",
    "    # feat_list is your input list of numbers\n",
    "    # how_many is the number of numbers you want to append\n",
    "    result = []\n",
    "    for i in range(how_many):\n",
    "        nextnum = find_next(feat_list)\n",
    "        result = result + nextnum\n",
    "        # remove the smallest number and add the number you just found\n",
    "        # before you iterate again using this new list as input\n",
    "        feat_list[0] = feat_list[0][1:] + nextnum\n",
    "    return result\n",
    "\n",
    "\n",
    "# test it\n",
    "test = [[144, 233, 377]]    \n",
    "print(find_next_numbers(test, 100))"
   ]
  },
  {
   "cell_type": "code",
   "execution_count": null,
   "metadata": {},
   "outputs": [],
   "source": []
  },
  {
   "cell_type": "code",
   "execution_count": 42,
   "metadata": {},
   "outputs": [
    {
     "name": "stdout",
     "output_type": "stream",
     "text": [
      "[610, 987, 1597, 2584, 4181, 6765, 10946, 17711, 28657, 46368, 75025, 121393, 196418, 317811, 514229, 832040, 1346269, 2178309, 3524578, 5702887, 9227465, 14930352, 24157817, 39088169, 63245986, 102334155, 165580141, 267914296, 433494437, 701408733, 1134903170, 1836311903, 2971215073, 4807526976, 7778742049, 12586269025, 20365011074, 32951280099, 53316291173, 86267571272, 139583862445, 225851433717, 365435296162, 591286729879, 956722026041, 1548008755920, 2504730781961, 4052739537881, 6557470319842, 10610209857723, 17167680177565, 27777890035288, 44945570212853, 72723460248141, 117669030460994, 190392490709135, 308061521170129, 498454011879264, 806515533049393, 1304969544928657, 2111485077978051, 3416454622906710, 5527939700884764, 8944394323791479, 14472334024676252, 23416728348467744, 37889062373144016, 61305790721611792, 99194853094755872, 160500643816367744, 259695496911123776, 420196140727491776, 679891637638615936, 1100087778366108288, 1779979416004725248, 2880067194370834944, 4660046610375562240, 7540113804746400768, 12200160415121969152, 19740274219868381184, 31940434634990370816, 51680708854858776576, 83621143489849196544, 135301852344708038656, 218922995834557366272, 354224848179265601536, 573147844013823295488, 927372692193089421312, 1500520536206913568768, 2427893228400004300800, 3928413764606919966720, 6356306993006927413248, 10284720757613854195712, 16641027750620792094720, 26925748508234660970496, 43566776258855478231040, 70492524767090172755968, 114059301025945718095872, 184551825793035999903744, 298611126818981885771776]\n"
     ]
    },
    {
     "name": "stderr",
     "output_type": "stream",
     "text": [
      "c:\\Users\\brinley.patterson\\AppData\\Local\\anaconda3\\envs\\Py37\\lib\\site-packages\\sklearn\\base.py:566: FutureWarning: Arrays of bytes/strings is being converted to decimal numbers if dtype='numeric'. This behavior is deprecated in 0.24 and will be removed in 1.1 (renaming of 0.26). Please convert your data to numeric values explicitly instead.\n",
      "  X = check_array(X, **check_params)\n",
      "c:\\Users\\brinley.patterson\\AppData\\Local\\anaconda3\\envs\\Py37\\lib\\site-packages\\sklearn\\base.py:566: FutureWarning: Arrays of bytes/strings is being converted to decimal numbers if dtype='numeric'. This behavior is deprecated in 0.24 and will be removed in 1.1 (renaming of 0.26). Please convert your data to numeric values explicitly instead.\n",
      "  X = check_array(X, **check_params)\n",
      "c:\\Users\\brinley.patterson\\AppData\\Local\\anaconda3\\envs\\Py37\\lib\\site-packages\\sklearn\\base.py:566: FutureWarning: Arrays of bytes/strings is being converted to decimal numbers if dtype='numeric'. This behavior is deprecated in 0.24 and will be removed in 1.1 (renaming of 0.26). Please convert your data to numeric values explicitly instead.\n",
      "  X = check_array(X, **check_params)\n",
      "c:\\Users\\brinley.patterson\\AppData\\Local\\anaconda3\\envs\\Py37\\lib\\site-packages\\sklearn\\base.py:566: FutureWarning: Arrays of bytes/strings is being converted to decimal numbers if dtype='numeric'. This behavior is deprecated in 0.24 and will be removed in 1.1 (renaming of 0.26). Please convert your data to numeric values explicitly instead.\n",
      "  X = check_array(X, **check_params)\n",
      "c:\\Users\\brinley.patterson\\AppData\\Local\\anaconda3\\envs\\Py37\\lib\\site-packages\\sklearn\\base.py:566: FutureWarning: Arrays of bytes/strings is being converted to decimal numbers if dtype='numeric'. This behavior is deprecated in 0.24 and will be removed in 1.1 (renaming of 0.26). Please convert your data to numeric values explicitly instead.\n",
      "  X = check_array(X, **check_params)\n",
      "c:\\Users\\brinley.patterson\\AppData\\Local\\anaconda3\\envs\\Py37\\lib\\site-packages\\sklearn\\base.py:566: FutureWarning: Arrays of bytes/strings is being converted to decimal numbers if dtype='numeric'. This behavior is deprecated in 0.24 and will be removed in 1.1 (renaming of 0.26). Please convert your data to numeric values explicitly instead.\n",
      "  X = check_array(X, **check_params)\n",
      "c:\\Users\\brinley.patterson\\AppData\\Local\\anaconda3\\envs\\Py37\\lib\\site-packages\\sklearn\\base.py:566: FutureWarning: Arrays of bytes/strings is being converted to decimal numbers if dtype='numeric'. This behavior is deprecated in 0.24 and will be removed in 1.1 (renaming of 0.26). Please convert your data to numeric values explicitly instead.\n",
      "  X = check_array(X, **check_params)\n",
      "c:\\Users\\brinley.patterson\\AppData\\Local\\anaconda3\\envs\\Py37\\lib\\site-packages\\sklearn\\base.py:566: FutureWarning: Arrays of bytes/strings is being converted to decimal numbers if dtype='numeric'. This behavior is deprecated in 0.24 and will be removed in 1.1 (renaming of 0.26). Please convert your data to numeric values explicitly instead.\n",
      "  X = check_array(X, **check_params)\n",
      "c:\\Users\\brinley.patterson\\AppData\\Local\\anaconda3\\envs\\Py37\\lib\\site-packages\\sklearn\\base.py:566: FutureWarning: Arrays of bytes/strings is being converted to decimal numbers if dtype='numeric'. This behavior is deprecated in 0.24 and will be removed in 1.1 (renaming of 0.26). Please convert your data to numeric values explicitly instead.\n",
      "  X = check_array(X, **check_params)\n",
      "c:\\Users\\brinley.patterson\\AppData\\Local\\anaconda3\\envs\\Py37\\lib\\site-packages\\sklearn\\base.py:566: FutureWarning: Arrays of bytes/strings is being converted to decimal numbers if dtype='numeric'. This behavior is deprecated in 0.24 and will be removed in 1.1 (renaming of 0.26). Please convert your data to numeric values explicitly instead.\n",
      "  X = check_array(X, **check_params)\n",
      "c:\\Users\\brinley.patterson\\AppData\\Local\\anaconda3\\envs\\Py37\\lib\\site-packages\\sklearn\\base.py:566: FutureWarning: Arrays of bytes/strings is being converted to decimal numbers if dtype='numeric'. This behavior is deprecated in 0.24 and will be removed in 1.1 (renaming of 0.26). Please convert your data to numeric values explicitly instead.\n",
      "  X = check_array(X, **check_params)\n",
      "c:\\Users\\brinley.patterson\\AppData\\Local\\anaconda3\\envs\\Py37\\lib\\site-packages\\sklearn\\base.py:566: FutureWarning: Arrays of bytes/strings is being converted to decimal numbers if dtype='numeric'. This behavior is deprecated in 0.24 and will be removed in 1.1 (renaming of 0.26). Please convert your data to numeric values explicitly instead.\n",
      "  X = check_array(X, **check_params)\n",
      "c:\\Users\\brinley.patterson\\AppData\\Local\\anaconda3\\envs\\Py37\\lib\\site-packages\\sklearn\\base.py:566: FutureWarning: Arrays of bytes/strings is being converted to decimal numbers if dtype='numeric'. This behavior is deprecated in 0.24 and will be removed in 1.1 (renaming of 0.26). Please convert your data to numeric values explicitly instead.\n",
      "  X = check_array(X, **check_params)\n",
      "c:\\Users\\brinley.patterson\\AppData\\Local\\anaconda3\\envs\\Py37\\lib\\site-packages\\sklearn\\base.py:566: FutureWarning: Arrays of bytes/strings is being converted to decimal numbers if dtype='numeric'. This behavior is deprecated in 0.24 and will be removed in 1.1 (renaming of 0.26). Please convert your data to numeric values explicitly instead.\n",
      "  X = check_array(X, **check_params)\n",
      "c:\\Users\\brinley.patterson\\AppData\\Local\\anaconda3\\envs\\Py37\\lib\\site-packages\\sklearn\\base.py:566: FutureWarning: Arrays of bytes/strings is being converted to decimal numbers if dtype='numeric'. This behavior is deprecated in 0.24 and will be removed in 1.1 (renaming of 0.26). Please convert your data to numeric values explicitly instead.\n",
      "  X = check_array(X, **check_params)\n",
      "c:\\Users\\brinley.patterson\\AppData\\Local\\anaconda3\\envs\\Py37\\lib\\site-packages\\sklearn\\base.py:566: FutureWarning: Arrays of bytes/strings is being converted to decimal numbers if dtype='numeric'. This behavior is deprecated in 0.24 and will be removed in 1.1 (renaming of 0.26). Please convert your data to numeric values explicitly instead.\n",
      "  X = check_array(X, **check_params)\n",
      "c:\\Users\\brinley.patterson\\AppData\\Local\\anaconda3\\envs\\Py37\\lib\\site-packages\\sklearn\\base.py:566: FutureWarning: Arrays of bytes/strings is being converted to decimal numbers if dtype='numeric'. This behavior is deprecated in 0.24 and will be removed in 1.1 (renaming of 0.26). Please convert your data to numeric values explicitly instead.\n",
      "  X = check_array(X, **check_params)\n",
      "c:\\Users\\brinley.patterson\\AppData\\Local\\anaconda3\\envs\\Py37\\lib\\site-packages\\sklearn\\base.py:566: FutureWarning: Arrays of bytes/strings is being converted to decimal numbers if dtype='numeric'. This behavior is deprecated in 0.24 and will be removed in 1.1 (renaming of 0.26). Please convert your data to numeric values explicitly instead.\n",
      "  X = check_array(X, **check_params)\n",
      "c:\\Users\\brinley.patterson\\AppData\\Local\\anaconda3\\envs\\Py37\\lib\\site-packages\\sklearn\\base.py:566: FutureWarning: Arrays of bytes/strings is being converted to decimal numbers if dtype='numeric'. This behavior is deprecated in 0.24 and will be removed in 1.1 (renaming of 0.26). Please convert your data to numeric values explicitly instead.\n",
      "  X = check_array(X, **check_params)\n",
      "c:\\Users\\brinley.patterson\\AppData\\Local\\anaconda3\\envs\\Py37\\lib\\site-packages\\sklearn\\base.py:566: FutureWarning: Arrays of bytes/strings is being converted to decimal numbers if dtype='numeric'. This behavior is deprecated in 0.24 and will be removed in 1.1 (renaming of 0.26). Please convert your data to numeric values explicitly instead.\n",
      "  X = check_array(X, **check_params)\n"
     ]
    },
    {
     "ename": "",
     "evalue": "",
     "output_type": "error",
     "traceback": [
      "\u001b[1;31mThe Kernel crashed while executing code in the the current cell or a previous cell. Please review the code in the cell(s) to identify a possible cause of the failure. Click <a href='https://aka.ms/vscodeJupyterKernelCrash'>here</a> for more info. View Jupyter <a href='command:jupyter.viewOutput'>log</a> for further details."
     ]
    }
   ],
   "source": [
    "# define your inputs\n",
    "features = [ [0,1,1],\n",
    "             [2,3,5],\n",
    "             [8,13,21],\n",
    "             [34,55,89] ]\n",
    "\n",
    "labels = [2,8,34,144]\n",
    "\n",
    "# create your linear regression extrapolator\n",
    "clf = LinearRegression()\n",
    "clf.fit(features, labels)\n",
    "\n",
    "# create a simple function to find the next number in the fibonacci sequence\n",
    "def find_next(feat_list):\n",
    "    # feat_list is your input list of numbers\n",
    "    result = clf.predict(feat_list)\n",
    "    result = result.tolist()\n",
    "    result = [int(x) for x in result]\n",
    "    return result\n",
    "\n",
    "# create one more function to iterate and add as many numbers to the sequence as you want\n",
    "def find_next_numbers(feat_list, how_many):\n",
    "    # feat_list is your input list of numbers\n",
    "    # how_many is the number of numbers you want to append\n",
    "    result = []\n",
    "    for i in range(how_many):\n",
    "        nextnum = find_next(feat_list)\n",
    "        result = result + nextnum\n",
    "        # remove the smallest number and add the number you just found\n",
    "        # before you iterate again using this new list as input\n",
    "        feat_list[0] = feat_list[0][1:] + nextnum\n",
    "    return result\n",
    "\n",
    "\n",
    "# test it\n",
    "test = [[144, 233, 377]]    \n",
    "print(find_next_numbers(test, 100))"
   ]
  },
  {
   "cell_type": "code",
   "execution_count": null,
   "metadata": {},
   "outputs": [],
   "source": []
  },
  {
   "cell_type": "code",
   "execution_count": null,
   "metadata": {},
   "outputs": [],
   "source": []
  },
  {
   "cell_type": "code",
   "execution_count": 37,
   "metadata": {},
   "outputs": [],
   "source": [
    "def is_prime(n):\n",
    "    \n",
    "  if n <= 1:\n",
    "    return False\n",
    "  for i in range(2, int(np.sqrt(n)) + 1):\n",
    "    if n % i == 0:\n",
    "      return False\n",
    "  return True"
   ]
  },
  {
   "cell_type": "code",
   "execution_count": 50,
   "metadata": {},
   "outputs": [
    {
     "name": "stdout",
     "output_type": "stream",
     "text": [
      "Collecting gmpy2\n",
      "  Downloading gmpy2-2.1.5-cp37-cp37m-win_amd64.whl (1.1 MB)\n",
      "     ---------------------------------------- 1.1/1.1 MB 944.8 kB/s eta 0:00:00\n",
      "Installing collected packages: gmpy2\n",
      "Successfully installed gmpy2-2.1.5\n",
      "Note: you may need to restart the kernel to use updated packages.\n"
     ]
    }
   ],
   "source": [
    "pip install gmpy2"
   ]
  },
  {
   "cell_type": "code",
   "execution_count": 23,
   "metadata": {},
   "outputs": [],
   "source": [
    "from mpmath import mp, sqrt, isinf, isnan\n",
    "\n",
    "def is_prime_large(n):\n",
    "    if n <= 1:\n",
    "        return 'Too small'\n",
    "    \n",
    "    sqrt_n = sqrt(mp.mpf(n))\n",
    "    \n",
    "    if isinf(sqrt_n) or isnan(sqrt_n):\n",
    "        return 'Too large'\n",
    "\n",
    "    for i in range(2, int(sqrt_n) + 1):\n",
    "        if n % i == 0:\n",
    "            return f'{n} is divisible by {i}'\n",
    "\n",
    "    return f'{n} is prime'\n"
   ]
  },
  {
   "cell_type": "code",
   "execution_count": 24,
   "metadata": {},
   "outputs": [
    {
     "data": {
      "text/plain": [
       "'100090993 is divisible by 19'"
      ]
     },
     "execution_count": 24,
     "metadata": {},
     "output_type": "execute_result"
    }
   ],
   "source": [
    "is_prime_large(100090993)"
   ]
  },
  {
   "cell_type": "code",
   "execution_count": 100,
   "metadata": {},
   "outputs": [
    {
     "name": "stdout",
     "output_type": "stream",
     "text": [
      "Too large\n"
     ]
    }
   ],
   "source": [
    "number = 2E825899331 - 1\n",
    "result = is_prime_large(number)\n",
    "\n",
    "print(result)\n"
   ]
  },
  {
   "cell_type": "code",
   "execution_count": 26,
   "metadata": {},
   "outputs": [
    {
     "name": "stdout",
     "output_type": "stream",
     "text": [
      "4 is not prime\n"
     ]
    }
   ],
   "source": [
    "import gmpy2\n",
    "\n",
    "def is_prime_large(n):\n",
    "    if n <= 1:\n",
    "        return 'Too small'\n",
    "\n",
    "    if gmpy2.is_prime(gmpy2.mpz(n)):\n",
    "        return f'{n} is prime'\n",
    "    else:\n",
    "        return f'{n} is not prime'\n",
    "\n",
    "number = 4\n",
    "result = is_prime_large(number)\n",
    "\n",
    "print(result)\n"
   ]
  },
  {
   "cell_type": "code",
   "execution_count": 15,
   "metadata": {},
   "outputs": [
    {
     "name": "stdout",
     "output_type": "stream",
     "text": [
      "Collecting mpmath\n",
      "  Downloading mpmath-1.3.0-py3-none-any.whl (536 kB)\n",
      "     -------------------------------------- 536.2/536.2 kB 2.1 MB/s eta 0:00:00\n",
      "Installing collected packages: mpmath\n",
      "Successfully installed mpmath-1.3.0\n",
      "Note: you may need to restart the kernel to use updated packages.\n"
     ]
    }
   ],
   "source": [
    "#pip install mpmath"
   ]
  },
  {
   "cell_type": "code",
   "execution_count": 28,
   "metadata": {},
   "outputs": [
    {
     "name": "stdout",
     "output_type": "stream",
     "text": [
      "2.0e+82589933\n"
     ]
    }
   ],
   "source": [
    "from mpmath import mp\n",
    "\n",
    "# Set precision to a sufficiently high value\n",
    "mp.dps = 50\n",
    "\n",
    "numerator = mp.mpf('2E82589933') - 1\n",
    "denominator = mp.mpf('1')\n",
    "\n",
    "result = mp.floor(numerator / denominator)\n",
    "print(result)"
   ]
  },
  {
   "cell_type": "code",
   "execution_count": 34,
   "metadata": {},
   "outputs": [
    {
     "data": {
      "text/plain": [
       "mpf('2.7585000000000000000000000000000000000000000000000024e+8578676')"
      ]
     },
     "execution_count": 34,
     "metadata": {},
     "output_type": "execute_result"
    }
   ],
   "source": [
    "mp.mpf('2.7585E8578676') - 1   #2589933"
   ]
  },
  {
   "cell_type": "code",
   "execution_count": 40,
   "metadata": {},
   "outputs": [
    {
     "name": "stdout",
     "output_type": "stream",
     "text": [
      "2\n",
      "3\n",
      "5\n",
      "7\n",
      "11\n",
      "13\n",
      "17\n",
      "19\n",
      "23\n",
      "29\n",
      "31\n",
      "37\n",
      "41\n",
      "43\n",
      "47\n",
      "53\n",
      "59\n",
      "61\n",
      "67\n",
      "71\n",
      "73\n",
      "79\n",
      "83\n",
      "89\n",
      "97\n"
     ]
    }
   ],
   "source": [
    "for i in range(0,100):\n",
    "    \n",
    "    if is_prime(i) == True:\n",
    "        print(i)"
   ]
  }
 ],
 "metadata": {
  "kernelspec": {
   "display_name": "Python 3.7.1 ('Py37')",
   "language": "python",
   "name": "python3"
  },
  "language_info": {
   "codemirror_mode": {
    "name": "ipython",
    "version": 3
   },
   "file_extension": ".py",
   "mimetype": "text/x-python",
   "name": "python",
   "nbconvert_exporter": "python",
   "pygments_lexer": "ipython3",
   "version": "3.7.1"
  },
  "orig_nbformat": 4,
  "vscode": {
   "interpreter": {
    "hash": "8e11c42773e3e9f08827a14eabde460b861d339fca3967b22e9764f1134ba708"
   }
  }
 },
 "nbformat": 4,
 "nbformat_minor": 2
}
